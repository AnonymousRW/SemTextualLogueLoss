{
 "cells": [
  {
   "cell_type": "code",
   "execution_count": null,
   "metadata": {},
   "outputs": [],
   "source": [
    "#make src.txt and trg.txt files\n",
    "import csv\n",
    "with open('personaliyt.csv','r') as file:\n",
    "    reader= csv.reader(file)\n",
    "    for row in reader:\n",
    "        row=row.strip()\n",
    "        if row=='\"':\n",
    "            \n"
   ]
  },
  {
   "cell_type": "code",
   "execution_count": 5,
   "metadata": {},
   "outputs": [
    {
     "name": "stdout",
     "output_type": "stream",
     "text": [
      "4.5015102360443\n"
     ]
    }
   ],
   "source": [
    "import re\n",
    "import nltk\n",
    "files=['dev_src.txt','train_src.txt','test_src.txt']\n",
    "count=0\n",
    "cur=\"\"\n",
    "def convert(text):\n",
    "    regex = r'<persona>(.*?)<persona>'\n",
    "    match = re.search(regex, text)\n",
    "    if match:\n",
    "        return match.group(1)\n",
    "\n",
    "def count_sent(text):\n",
    "\n",
    "    return text.count('.')\n",
    "\n",
    "\n",
    "total=0\n",
    "for file in files:\n",
    "    with open(file,'r') as reader_file:\n",
    "        for line in reader_file:\n",
    "            temp=convert(line)\n",
    "            if temp!=cur:\n",
    "                count+=1\n",
    "                total+=count_sent(temp)\n",
    "                cur=temp\n",
    "print(total/count)\n"
   ]
  }
 ],
 "metadata": {
  "kernelspec": {
   "display_name": "dd",
   "language": "python",
   "name": "python3"
  },
  "language_info": {
   "codemirror_mode": {
    "name": "ipython",
    "version": 3
   },
   "file_extension": ".py",
   "mimetype": "text/x-python",
   "name": "python",
   "nbconvert_exporter": "python",
   "pygments_lexer": "ipython3",
   "version": "3.7.16"
  },
  "orig_nbformat": 4
 },
 "nbformat": 4,
 "nbformat_minor": 2
}
